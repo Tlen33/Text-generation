{
  "nbformat": 4,
  "nbformat_minor": 0,
  "metadata": {
    "colab": {
      "name": "Генерация текста.ipynb",
      "provenance": [],
      "machine_shape": "hm",
      "collapsed_sections": [],
      "authorship_tag": "ABX9TyOtiE3Awsg8Dd96RUgrPXwp",
      "include_colab_link": true
    },
    "kernelspec": {
      "name": "python3",
      "display_name": "Python 3"
    },
    "language_info": {
      "name": "python"
    },
    "accelerator": "TPU"
  },
  "cells": [
    {
      "cell_type": "markdown",
      "metadata": {
        "id": "view-in-github",
        "colab_type": "text"
      },
      "source": [
        "<a href=\"https://colab.research.google.com/github/Tlen33/Text-generation/blob/main/%D0%93%D0%B5%D0%BD%D0%B5%D1%80%D0%B0%D1%86%D0%B8%D1%8F_%D1%82%D0%B5%D0%BA%D1%81%D1%82%D0%B0.ipynb\" target=\"_parent\"><img src=\"https://colab.research.google.com/assets/colab-badge.svg\" alt=\"Open In Colab\"/></a>"
      ]
    },
    {
      "cell_type": "code",
      "execution_count": null,
      "metadata": {
        "id": "N0v-59PCFQL6"
      },
      "outputs": [],
      "source": [
        "# Подключаем библиотеки\n",
        "\n",
        "from google.colab import files\n",
        "from tensorflow.keras.models import Model, load_model\n",
        "from tensorflow.keras.layers import Dense, Embedding, LSTM, Input\n",
        "from tensorflow.keras.optimizers import RMSprop, Adadelta\n",
        "from tensorflow.keras.preprocessing.sequence import pad_sequences\n",
        "from tensorflow.keras.preprocessing.text import Tokenizer\n",
        "from tensorflow.keras import utils\n",
        "from tensorflow.keras.utils import plot_model\n",
        "import numpy as np\n",
        "import yaml"
      ]
    },
    {
      "cell_type": "code",
      "source": [
        "# Подключаем диск\n",
        "\n",
        "from google.colab import drive\n",
        "drive.mount('/content/drive')"
      ],
      "metadata": {
        "colab": {
          "base_uri": "https://localhost:8080/"
        },
        "id": "H2VtnURSjOl4",
        "outputId": "50ae9780-1be2-4a83-88c2-c67382830e0c"
      },
      "execution_count": null,
      "outputs": [
        {
          "output_type": "stream",
          "name": "stdout",
          "text": [
            "Drive already mounted at /content/drive; to attempt to forcibly remount, call drive.mount(\"/content/drive\", force_remount=True).\n"
          ]
        }
      ]
    },
    {
      "cell_type": "code",
      "source": [
        "# Открываем файл с диалогами\n",
        "\n",
        "corpus = open('/content/drive/MyDrive/Colab Notebooks/Базы/Диалоги(рассказы)_censored.yml', 'r')\n",
        "document = yaml.safe_load(corpus)\n",
        "conversations = document['разговоры']\n",
        "print('Количество пар вопрос-ответ : {}'.format(len(conversations)))\n",
        "print('Пример диалога : {}'.format(conversations[123]))\n",
        "corpus.close()"
      ],
      "metadata": {
        "colab": {
          "base_uri": "https://localhost:8080/"
        },
        "id": "C2F9PB-ljRCs",
        "outputId": "db905a98-0864-4553-8e76-3a1d65c089aa"
      },
      "execution_count": null,
      "outputs": [
        {
          "output_type": "stream",
          "name": "stdout",
          "text": [
            "Количество пар вопрос-ответ : 11893\n",
            "Пример диалога : ['Перезалил?', 'Да вроде бы нет...']\n"
          ]
        }
      ]
    },
    {
      "cell_type": "code",
      "source": [
        "# Разбираем вопросы-ответы\n",
        "\n",
        "questions = list()\n",
        "answers = list()\n",
        "\n",
        "for con in conversations:\n",
        "  if len(con) > 2 :\n",
        "    questions.append(con[0])\n",
        "    replies = con[1:]\n",
        "    ans = ''\n",
        "    for rep in replies:\n",
        "      ans += ' ' + rep\n",
        "    answers.append(ans)\n",
        "  elif len(con)> 1:\n",
        "    questions.append(con[0])\n",
        "    answers.append(con[1])\n",
        "\n",
        "answersCleaned = list()\n",
        "for i in range(len(answers)):\n",
        "  if type(answers[i]) == str:\n",
        "    answersCleaned.append(answers[i])\n",
        "  else:\n",
        "    questions.pop(i)\n",
        "\n",
        "answers = list()\n",
        "for i in range(len(answersCleaned)):\n",
        "  answers.append( '<START> ' + answersCleaned[i] + ' <END>' )\n",
        "\n",
        "print('Вопрос : {}'.format(questions[200]))\n",
        "print('Ответ : {}'.format(answers[200]))"
      ],
      "metadata": {
        "colab": {
          "base_uri": "https://localhost:8080/"
        },
        "id": "XkTXSDPSNOcK",
        "outputId": "17e76dad-2f40-46eb-850b-10011677180b"
      },
      "execution_count": null,
      "outputs": [
        {
          "output_type": "stream",
          "name": "stdout",
          "text": [
            "Вопрос : Около сотни...\n",
            "Ответ : <START> Точнее! <END>\n"
          ]
        }
      ]
    },
    {
      "cell_type": "code",
      "source": [
        "# Подключаем токенизатор\n",
        "\n",
        "tokenizer = Tokenizer()\n",
        "tokenizer.fit_on_texts(questions + answers)\n",
        "vocabularyItems = list(tokenizer.word_index.items())\n",
        "vocabularySize = len(vocabularyItems)+1\n",
        "print( 'Фрагмент словаря : {}'.format(vocabularyItems[:50]))\n",
        "print( 'Размер словаря : {}'.format(vocabularySize))"
      ],
      "metadata": {
        "colab": {
          "base_uri": "https://localhost:8080/"
        },
        "id": "tVvMEn9eNQsx",
        "outputId": "31a52eca-37e1-4417-9af7-d49a193dbd9d"
      },
      "execution_count": null,
      "outputs": [
        {
          "output_type": "stream",
          "name": "stdout",
          "text": [
            "Фрагмент словаря : [('start', 1), ('end', 2), ('что', 3), ('не', 4), ('я', 5), ('а', 6), ('ты', 7), ('это', 8), ('да', 9), ('в', 10), ('нет', 11), ('как', 12), ('и', 13), ('вы', 14), ('ну', 15), ('с', 16), ('на', 17), ('же', 18), ('так', 19), ('он', 20), ('у', 21), ('кто', 22), ('где', 23), ('все', 24), ('мы', 25), ('то', 26), ('мне', 27), ('тебя', 28), ('меня', 29), ('здесь', 30), ('еще', 31), ('почему', 32), ('о', 33), ('тебе', 34), ('там', 35), ('есть', 36), ('его', 37), ('за', 38), ('куда', 39), ('вот', 40), ('ничего', 41), ('вас', 42), ('знаю', 43), ('чем', 44), ('но', 45), ('она', 46), ('они', 47), ('ли', 48), ('чего', 49), ('вам', 50)]\n",
            "Размер словаря : 15092\n"
          ]
        }
      ]
    },
    {
      "cell_type": "code",
      "source": [
        "# Устанавливаем закодированные вопросы\n",
        "\n",
        "tokenizedQuestions = tokenizer.texts_to_sequences(questions)\n",
        "maxLenQuestions = max([ len(x) for x in tokenizedQuestions])\n",
        "paddedQuestions = pad_sequences(tokenizedQuestions, maxlen=maxLenQuestions, padding='post')\n",
        "\n",
        "encoderForInput = paddedQuestions\n",
        "print('Пример оригинального вопроса на вход : {}'.format(questions[100])) \n",
        "print('Пример кодированного вопроса на вход : {}'.format(encoderForInput[100])) \n",
        "print('Размеры закодированного массива вопросов на вход : {}'.format(encoderForInput.shape)) \n",
        "print('Установленная длина вопросов на вход : {}'.format(maxLenQuestions)) "
      ],
      "metadata": {
        "colab": {
          "base_uri": "https://localhost:8080/"
        },
        "id": "_wA6xrizNSVJ",
        "outputId": "3a42537a-e7c8-4927-a1df-ab1ea54c56a9"
      },
      "execution_count": null,
      "outputs": [
        {
          "output_type": "stream",
          "name": "stdout",
          "text": [
            "Пример оригинального вопроса на вход : Какая же мораль?\n",
            "Пример кодированного вопроса на вход : [ 170   18 5703    0    0    0    0    0    0    0    0]\n",
            "Размеры закодированного массива вопросов на вход : (11888, 11)\n",
            "Установленная длина вопросов на вход : 11\n"
          ]
        }
      ]
    },
    {
      "cell_type": "code",
      "source": [
        "# Устанавливаем раскодированные ответы\n",
        "\n",
        "tokenizedAnswers = tokenizer.texts_to_sequences(answers)\n",
        "maxLenAnswers = max([len(x) for x in tokenizedAnswers])\n",
        "paddedAnswers = pad_sequences(tokenizedAnswers, maxlen=maxLenAnswers, padding='post')\n",
        "\n",
        "decoderForInput = paddedAnswers\n",
        "print('Пример оригинального ответа на вход: {}'.format(answers[100])) \n",
        "print('Пример раскодированного ответа на вход : {}'.format(decoderForInput[200])) \n",
        "print('Размеры раскодированного массива ответов на вход : {}'.format(decoderForInput.shape)) \n",
        "print('Установленная длина ответов на вход : {}'.format(maxLenAnswers)) "
      ],
      "metadata": {
        "colab": {
          "base_uri": "https://localhost:8080/"
        },
        "id": "tHAxnNhDNY3x",
        "outputId": "4e7f00f4-d81d-477c-f64c-7ceb579ce2a4"
      },
      "execution_count": null,
      "outputs": [
        {
          "output_type": "stream",
          "name": "stdout",
          "text": [
            "Пример оригинального ответа на вход: <START> Никакой. Так просто вспомнилось. <END>\n",
            "Пример раскодированного ответа на вход : [   1 1743    2    0    0    0    0    0    0    0    0    0    0]\n",
            "Размеры раскодированного массива ответов на вход : (11888, 13)\n",
            "Установленная длина ответов на вход : 13\n"
          ]
        }
      ]
    },
    {
      "cell_type": "code",
      "source": [
        "# Раскодированные ответы\n",
        "\n",
        "tokenizedAnswers = tokenizer.texts_to_sequences(answers)\n",
        "for i in range(len(tokenizedAnswers)):\n",
        "  tokenizedAnswers[i] = tokenizedAnswers[i][1:]\n",
        "paddedAnswers = pad_sequences(tokenizedAnswers, maxlen=maxLenAnswers , padding='post')\n",
        "\n",
        "oneHotAnswers = utils.to_categorical(paddedAnswers, vocabularySize)\n",
        "decoderForOutput = np.array(oneHotAnswers)\n",
        "\n",
        "print('Пример раскодированного ответа на вход : {}'.format(decoderForInput[100][:21]))  \n",
        "print('Пример раскодированного ответа на выход : {}'.format(decoderForOutput[100][4][:21])) \n",
        "print('Размеры раскодированного массива ответов на выход : {}'.format(decoderForOutput.shape))\n",
        "print('Установленная длина вопросов на выход : {}'.format(maxLenAnswers)) "
      ],
      "metadata": {
        "colab": {
          "base_uri": "https://localhost:8080/"
        },
        "id": "hZSulfHTNZU3",
        "outputId": "2e4cb74e-3048-4cb4-e4c5-ba60e5b2bfec"
      },
      "execution_count": null,
      "outputs": [
        {
          "output_type": "stream",
          "name": "stdout",
          "text": [
            "Пример раскодированного ответа на вход : [    1   672    19    93 10547     2     0     0     0     0     0     0\n",
            "     0]\n",
            "Пример раскодированного ответа на выход : [0. 0. 1. 0. 0. 0. 0. 0. 0. 0. 0. 0. 0. 0. 0. 0. 0. 0. 0. 0. 0.]\n",
            "Размеры раскодированного массива ответов на выход : (11888, 13, 15092)\n",
            "Установленная длина вопросов на выход : 13\n"
          ]
        }
      ]
    },
    {
      "cell_type": "code",
      "source": [
        "# Первый входной слой, кодер, выходной слой\n",
        "\n",
        "encoderInputs = Input(shape=(None , ))\n",
        "encoderEmbedding = Embedding(vocabularySize, 200 , mask_zero=True) (encoderInputs)\n",
        "encoderOutputs, state_h , state_c = LSTM(200, return_state=True)(encoderEmbedding)\n",
        "encoderStates = [state_h, state_c]"
      ],
      "metadata": {
        "id": "BSCwQ6EFNde1"
      },
      "execution_count": null,
      "outputs": []
    },
    {
      "cell_type": "code",
      "source": [
        "# Второй входной слой, декодер, выходной слой\n",
        "\n",
        "decoderInputs = Input(shape=(None, ))\n",
        "decoderEmbedding = Embedding(vocabularySize, 200, mask_zero=True) (decoderInputs) \n",
        "decoderLSTM = LSTM(200, return_state=True, return_sequences=True)\n",
        "decoderOutputs , _ , _ = decoderLSTM (decoderEmbedding, initial_state=encoderStates)\n",
        "decoderDense = Dense(vocabularySize, activation='softmax') \n",
        "output = decoderDense (decoderOutputs)"
      ],
      "metadata": {
        "id": "6ApAO6hENjpJ"
      },
      "execution_count": null,
      "outputs": []
    },
    {
      "cell_type": "code",
      "source": [
        "# Тренировочная модель нейронки\n",
        "\n",
        "model = Model([encoderInputs, decoderInputs], output)\n",
        "model.compile(optimizer=RMSprop(), loss='categorical_crossentropy')\n",
        "\n",
        "print(model.summary())\n",
        "plot_model(model, to_file='model.png')"
      ],
      "metadata": {
        "colab": {
          "base_uri": "https://localhost:8080/",
          "height": 974
        },
        "id": "4Rvp2sZbeXot",
        "outputId": "6b35401b-45fb-4738-8bd2-5f606f9eb49a"
      },
      "execution_count": null,
      "outputs": [
        {
          "output_type": "stream",
          "name": "stdout",
          "text": [
            "Model: \"model_24\"\n",
            "__________________________________________________________________________________________________\n",
            " Layer (type)                   Output Shape         Param #     Connected to                     \n",
            "==================================================================================================\n",
            " input_29 (InputLayer)          [(None, None)]       0           []                               \n",
            "                                                                                                  \n",
            " input_30 (InputLayer)          [(None, None)]       0           []                               \n",
            "                                                                                                  \n",
            " embedding_6 (Embedding)        (None, None, 200)    3018400     ['input_29[0][0]']               \n",
            "                                                                                                  \n",
            " embedding_7 (Embedding)        (None, None, 200)    3018400     ['input_30[0][0]']               \n",
            "                                                                                                  \n",
            " lstm_6 (LSTM)                  [(None, 200),        320800      ['embedding_6[0][0]']            \n",
            "                                 (None, 200),                                                     \n",
            "                                 (None, 200)]                                                     \n",
            "                                                                                                  \n",
            " lstm_7 (LSTM)                  [(None, None, 200),  320800      ['embedding_7[0][0]',            \n",
            "                                 (None, 200),                     'lstm_6[0][1]',                 \n",
            "                                 (None, 200)]                     'lstm_6[0][2]']                 \n",
            "                                                                                                  \n",
            " dense_3 (Dense)                (None, None, 15092)  3033492     ['lstm_7[0][0]']                 \n",
            "                                                                                                  \n",
            "==================================================================================================\n",
            "Total params: 9,711,892\n",
            "Trainable params: 9,711,892\n",
            "Non-trainable params: 0\n",
            "__________________________________________________________________________________________________\n",
            "None\n"
          ]
        },
        {
          "output_type": "execute_result",
          "data": {
            "image/png": "[encoded data removed]",
            "text/plain": [
              "<IPython.core.display.Image object>"
            ]
          },
          "metadata": {},
          "execution_count": 75
        }
      ]
    },
    {
      "cell_type": "code",
      "source": [
        "# Запустим обучение и сохраним модель\n",
        "\n",
        "model.fit([encoderForInput , decoderForInput], decoderForOutput, batch_size=50, epochs=10) \n",
        "model.save( '/content/drive/MyDrive/Colab Notebooks/Базы/Предобученные сети/model_10epochs(rms).h5' )"
      ],
      "metadata": {
        "colab": {
          "base_uri": "https://localhost:8080/"
        },
        "id": "y_7zFab7E5Y1",
        "outputId": "300300b1-74fe-4876-972e-770deea4c452"
      },
      "execution_count": null,
      "outputs": [
        {
          "output_type": "stream",
          "name": "stdout",
          "text": [
            "Epoch 1/10\n",
            "238/238 [==============================] - 41s 140ms/step - loss: 2.2152\n",
            "Epoch 2/10\n",
            "238/238 [==============================] - 33s 141ms/step - loss: 1.9758\n",
            "Epoch 3/10\n",
            "238/238 [==============================] - 33s 139ms/step - loss: 1.9263\n",
            "Epoch 4/10\n",
            "238/238 [==============================] - 33s 139ms/step - loss: 1.8868\n",
            "Epoch 5/10\n",
            "238/238 [==============================] - 34s 141ms/step - loss: 1.8521\n",
            "Epoch 6/10\n",
            "238/238 [==============================] - 34s 141ms/step - loss: 1.8194\n",
            "Epoch 7/10\n",
            "238/238 [==============================] - 33s 138ms/step - loss: 1.7885\n",
            "Epoch 8/10\n",
            "238/238 [==============================] - 35s 149ms/step - loss: 1.7570\n",
            "Epoch 9/10\n",
            "238/238 [==============================] - 33s 139ms/step - loss: 1.7227\n",
            "Epoch 10/10\n",
            "238/238 [==============================] - 33s 139ms/step - loss: 1.6912\n"
          ]
        }
      ]
    },
    {
      "cell_type": "code",
      "source": [
        "model.compile(optimizer=Adadelta(), loss='categorical_crossentropy')"
      ],
      "metadata": {
        "id": "iD_WPiYnFEQe"
      },
      "execution_count": null,
      "outputs": []
    },
    {
      "cell_type": "code",
      "source": [
        "# Запустим обучение и сохраним модель на 20 эпох\n",
        "\n",
        "model.fit([encoderForInput , decoderForInput], decoderForOutput, batch_size=50, epochs=20) \n",
        "model.save( '/content/drive/MyDrive/Colab Notebooks/Базы/Предобученные сети/model_20epochs(rms).h5' )"
      ],
      "metadata": {
        "colab": {
          "base_uri": "https://localhost:8080/"
        },
        "id": "UKa2BeV9eoc-",
        "outputId": "2aebc89f-4bd8-4a53-cd04-7afca3e99ce8"
      },
      "execution_count": null,
      "outputs": [
        {
          "output_type": "stream",
          "name": "stdout",
          "text": [
            "Epoch 1/20\n",
            "238/238 [==============================] - 38s 124ms/step - loss: 1.6270\n",
            "Epoch 2/20\n",
            "238/238 [==============================] - 30s 125ms/step - loss: 1.6263\n",
            "Epoch 3/20\n",
            "238/238 [==============================] - 29s 123ms/step - loss: 1.6258\n",
            "Epoch 4/20\n",
            "238/238 [==============================] - 31s 130ms/step - loss: 1.6252\n",
            "Epoch 5/20\n",
            "238/238 [==============================] - 30s 126ms/step - loss: 1.6247\n",
            "Epoch 6/20\n",
            "238/238 [==============================] - 29s 123ms/step - loss: 1.6243\n",
            "Epoch 7/20\n",
            "238/238 [==============================] - 29s 124ms/step - loss: 1.6239\n",
            "Epoch 8/20\n",
            "238/238 [==============================] - 29s 123ms/step - loss: 1.6235\n",
            "Epoch 9/20\n",
            "238/238 [==============================] - 29s 123ms/step - loss: 1.6232\n",
            "Epoch 10/20\n",
            "238/238 [==============================] - 29s 121ms/step - loss: 1.6228\n",
            "Epoch 11/20\n",
            "238/238 [==============================] - 30s 125ms/step - loss: 1.6225\n",
            "Epoch 12/20\n",
            "238/238 [==============================] - 29s 123ms/step - loss: 1.6222\n",
            "Epoch 13/20\n",
            "238/238 [==============================] - 29s 124ms/step - loss: 1.6219\n",
            "Epoch 14/20\n",
            "238/238 [==============================] - 30s 124ms/step - loss: 1.6217\n",
            "Epoch 15/20\n",
            "238/238 [==============================] - 30s 124ms/step - loss: 1.6214\n",
            "Epoch 16/20\n",
            "238/238 [==============================] - 29s 122ms/step - loss: 1.6212\n",
            "Epoch 17/20\n",
            "238/238 [==============================] - 30s 124ms/step - loss: 1.6209\n",
            "Epoch 18/20\n",
            "238/238 [==============================] - 30s 124ms/step - loss: 1.6207\n",
            "Epoch 19/20\n",
            "238/238 [==============================] - 29s 122ms/step - loss: 1.6205\n",
            "Epoch 20/20\n",
            "238/238 [==============================] - 29s 121ms/step - loss: 1.6203\n"
          ]
        }
      ]
    },
    {
      "cell_type": "code",
      "source": [
        "# Создаем рабочую модель для вывода ответов на запросы\n",
        "\n",
        "def makeInferenceModels():\n",
        "  encoderModel = Model(encoderInputs, encoderStates) \n",
        "\n",
        "  decoderStateInput_h = Input(shape=(200 ,))\n",
        "  decoderStateInput_c = Input(shape=(200 ,))\n",
        "\n",
        "  decoderStatesInputs = [decoderStateInput_h, decoderStateInput_c]\n",
        "\n",
        "  decoderOutputs, state_h, state_c = decoderLSTM(decoderEmbedding, initial_state=decoderStatesInputs)\n",
        "  decoderStates = [state_h, state_c]\n",
        "  decoderOutputs = decoderDense(decoderOutputs)\n",
        "\n",
        "  decoderModel = Model([decoderInputs] + decoderStatesInputs, [decoderOutputs] + decoderStates)\n",
        "\n",
        "  return encoderModel , decoderModel\n",
        "\n",
        "def strToTokens(sentence: str):\n",
        "  words = sentence.lower().split()\n",
        "  tokensList = list()\n",
        "  for word in words:\n",
        "    tokensList.append(tokenizer.word_index[word])\n",
        "\n",
        "  return pad_sequences([tokensList], maxlen=maxLenQuestions , padding='post')"
      ],
      "metadata": {
        "id": "gPYC0aEUe2vK"
      },
      "execution_count": null,
      "outputs": []
    },
    {
      "cell_type": "code",
      "source": [
        "# Устанавливаем окончательные настройки и запускаем модель\n",
        "\n",
        "encModel , decModel = makeInferenceModels()\n",
        "\n",
        "for _ in range(3):\n",
        "  statesValues = encModel.predict(strToTokens(input( 'Задайте вопрос : ' )))\n",
        "  emptyTargetSeq = np.zeros((1, 1))    \n",
        "  emptyTargetSeq[0, 0] = tokenizer.word_index['start']\n",
        "\n",
        "  stopCondition = False\n",
        "  decodedTranslation = ''\n",
        "  while not stopCondition :\n",
        "    decOutputs , h , c = decModel.predict([emptyTargetSeq] + statesValues)\n",
        "    \n",
        "    sampledWordIndex = np.argmax( decOutputs[0, 0, :])\n",
        "    sampledWord = None\n",
        "    for word , index in tokenizer.word_index.items():\n",
        "      if sampledWordIndex == index:\n",
        "        decodedTranslation += ' {}'.format(word)\n",
        "        sampledWord = word\n",
        "\n",
        "    if sampledWord == 'end' or len(decodedTranslation.split()) > maxLenAnswers:\n",
        "      stopCondition = True\n",
        "\n",
        "    emptyTargetSeq[0, 0] = sampledWordIndex\n",
        "    statesValues = [h, c]\n",
        "  \n",
        "  print(decodedTranslation[:-3])"
      ],
      "metadata": {
        "colab": {
          "base_uri": "https://localhost:8080/"
        },
        "id": "tjVJYQ1-fCAy",
        "outputId": "3dfbcc77-7e06-4a90-b366-248b05519fb6"
      },
      "execution_count": null,
      "outputs": [
        {
          "output_type": "stream",
          "name": "stdout",
          "text": [
            "Задайте вопрос : как дела\n",
            " да \n",
            "Задайте вопрос : чем занят\n",
            " да сэр \n",
            "Задайте вопрос : будешь пить\n",
            " что \n"
          ]
        }
      ]
    },
    {
      "cell_type": "code",
      "source": [
        "# Запустим обучение и сохраним модель на +30 эпох\n",
        "\n",
        "model.fit([encoderForInput , decoderForInput], decoderForOutput, batch_size=50, epochs=30) \n",
        "model.save( '/content/drive/MyDrive/Colab Notebooks/Базы/Предобученные сети/model_20epochs(rms)+30.h5' )"
      ],
      "metadata": {
        "colab": {
          "base_uri": "https://localhost:8080/"
        },
        "id": "7bMFNqoDm5T2",
        "outputId": "8ba41dc8-ecf3-4d7c-c99e-41eb62b4fda3"
      },
      "execution_count": null,
      "outputs": [
        {
          "output_type": "stream",
          "name": "stdout",
          "text": [
            "Epoch 1/30\n",
            "238/238 [==============================] - 28s 116ms/step - loss: 1.6201\n",
            "Epoch 2/30\n",
            "238/238 [==============================] - 28s 116ms/step - loss: 1.6199\n",
            "Epoch 3/30\n",
            "238/238 [==============================] - 28s 116ms/step - loss: 1.6197\n",
            "Epoch 4/30\n",
            "238/238 [==============================] - 27s 115ms/step - loss: 1.6195\n",
            "Epoch 5/30\n",
            "238/238 [==============================] - 27s 114ms/step - loss: 1.6193\n",
            "Epoch 6/30\n",
            "238/238 [==============================] - 28s 117ms/step - loss: 1.6191\n",
            "Epoch 7/30\n",
            "238/238 [==============================] - 28s 118ms/step - loss: 1.6190\n",
            "Epoch 8/30\n",
            "238/238 [==============================] - 28s 117ms/step - loss: 1.6188\n",
            "Epoch 9/30\n",
            "238/238 [==============================] - 27s 115ms/step - loss: 1.6186\n",
            "Epoch 10/30\n",
            "238/238 [==============================] - 28s 116ms/step - loss: 1.6185\n",
            "Epoch 11/30\n",
            "238/238 [==============================] - 28s 117ms/step - loss: 1.6183\n",
            "Epoch 12/30\n",
            "238/238 [==============================] - 28s 116ms/step - loss: 1.6182\n",
            "Epoch 13/30\n",
            "238/238 [==============================] - 27s 115ms/step - loss: 1.6180\n",
            "Epoch 14/30\n",
            "238/238 [==============================] - 27s 115ms/step - loss: 1.6178\n",
            "Epoch 15/30\n",
            "238/238 [==============================] - 28s 116ms/step - loss: 1.6177\n",
            "Epoch 16/30\n",
            "238/238 [==============================] - 28s 118ms/step - loss: 1.6176\n",
            "Epoch 17/30\n",
            "238/238 [==============================] - 30s 127ms/step - loss: 1.6174\n",
            "Epoch 18/30\n",
            "238/238 [==============================] - 33s 137ms/step - loss: 1.6173\n",
            "Epoch 19/30\n",
            "238/238 [==============================] - 32s 134ms/step - loss: 1.6171\n",
            "Epoch 20/30\n",
            "238/238 [==============================] - 29s 121ms/step - loss: 1.6170\n",
            "Epoch 21/30\n",
            "238/238 [==============================] - 27s 115ms/step - loss: 1.6169\n",
            "Epoch 22/30\n",
            "238/238 [==============================] - 27s 115ms/step - loss: 1.6167\n",
            "Epoch 23/30\n",
            "238/238 [==============================] - 28s 116ms/step - loss: 1.6166\n",
            "Epoch 24/30\n",
            "238/238 [==============================] - 27s 112ms/step - loss: 1.6165\n",
            "Epoch 25/30\n",
            "238/238 [==============================] - 27s 115ms/step - loss: 1.6163\n",
            "Epoch 26/30\n",
            "238/238 [==============================] - 28s 119ms/step - loss: 1.6162\n",
            "Epoch 27/30\n",
            "238/238 [==============================] - 29s 123ms/step - loss: 1.6161\n",
            "Epoch 28/30\n",
            "238/238 [==============================] - 29s 123ms/step - loss: 1.6160\n",
            "Epoch 29/30\n",
            "238/238 [==============================] - 29s 122ms/step - loss: 1.6158\n",
            "Epoch 30/30\n",
            "238/238 [==============================] - 29s 122ms/step - loss: 1.6157\n"
          ]
        }
      ]
    },
    {
      "cell_type": "code",
      "source": [
        "# Устанавливаем окончательные настройки и запускаем модель\n",
        "\n",
        "encModel , decModel = makeInferenceModels()\n",
        "\n",
        "for _ in range(3):\n",
        "  statesValues = encModel.predict(strToTokens(input( 'Задайте вопрос : ' )))\n",
        "  emptyTargetSeq = np.zeros((1, 1))    \n",
        "  emptyTargetSeq[0, 0] = tokenizer.word_index['start']\n",
        "\n",
        "  stopCondition = False\n",
        "  decodedTranslation = ''\n",
        "  while not stopCondition :\n",
        "    decOutputs , h , c = decModel.predict([emptyTargetSeq] + statesValues)\n",
        "    \n",
        "    sampledWordIndex = np.argmax( decOutputs[0, 0, :])\n",
        "    sampledWord = None\n",
        "    for word , index in tokenizer.word_index.items():\n",
        "      if sampledWordIndex == index:\n",
        "        decodedTranslation += ' {}'.format(word)\n",
        "        sampledWord = word\n",
        "\n",
        "    if sampledWord == 'end' or len(decodedTranslation.split()) > maxLenAnswers:\n",
        "      stopCondition = True\n",
        "\n",
        "    emptyTargetSeq[0, 0] = sampledWordIndex\n",
        "    statesValues = [h, c]\n",
        "  \n",
        "  print(decodedTranslation[:-3])"
      ],
      "metadata": {
        "colab": {
          "base_uri": "https://localhost:8080/"
        },
        "id": "C0vWsh5YnH3B",
        "outputId": "861fe11a-f739-40a8-b5bb-e618e408e8ce"
      },
      "execution_count": null,
      "outputs": [
        {
          "output_type": "stream",
          "name": "stdout",
          "text": [
            "Задайте вопрос : как дела\n",
            " да \n",
            "Задайте вопрос : чем занят\n",
            " да сэр \n",
            "Задайте вопрос : будешь пить\n",
            " что \n"
          ]
        }
      ]
    },
    {
      "cell_type": "code",
      "source": [
        "# Запустим обучение и сохраним модель на +50 эпох\n",
        "\n",
        "model.fit([encoderForInput , decoderForInput], decoderForOutput, batch_size=50, epochs=50) \n",
        "model.save( '/content/drive/MyDrive/Colab Notebooks/Базы/Предобученные сети/model_20epochs(rms)+30+50.h5' )"
      ],
      "metadata": {
        "colab": {
          "base_uri": "https://localhost:8080/"
        },
        "id": "CG4WIXKdrQ87",
        "outputId": "f760d058-77d5-4b3d-a944-9d7d91e9fbd5"
      },
      "execution_count": null,
      "outputs": [
        {
          "output_type": "stream",
          "name": "stdout",
          "text": [
            "Epoch 1/50\n",
            "238/238 [==============================] - 28s 119ms/step - loss: 1.6156\n",
            "Epoch 2/50\n",
            "238/238 [==============================] - 29s 121ms/step - loss: 1.6155\n",
            "Epoch 3/50\n",
            "238/238 [==============================] - 29s 121ms/step - loss: 1.6154\n",
            "Epoch 4/50\n",
            "238/238 [==============================] - 30s 127ms/step - loss: 1.6153\n",
            "Epoch 5/50\n",
            "238/238 [==============================] - 29s 120ms/step - loss: 1.6152\n",
            "Epoch 6/50\n",
            "238/238 [==============================] - 28s 120ms/step - loss: 1.6150\n",
            "Epoch 7/50\n",
            "238/238 [==============================] - 29s 123ms/step - loss: 1.6149\n",
            "Epoch 8/50\n",
            "238/238 [==============================] - 29s 122ms/step - loss: 1.6148\n",
            "Epoch 9/50\n",
            "238/238 [==============================] - 29s 120ms/step - loss: 1.6147\n",
            "Epoch 10/50\n",
            "238/238 [==============================] - 30s 124ms/step - loss: 1.6146\n",
            "Epoch 11/50\n",
            "238/238 [==============================] - 28s 119ms/step - loss: 1.6145\n",
            "Epoch 12/50\n",
            "238/238 [==============================] - 28s 119ms/step - loss: 1.6144\n",
            "Epoch 13/50\n",
            "238/238 [==============================] - 31s 130ms/step - loss: 1.6143\n",
            "Epoch 14/50\n",
            "238/238 [==============================] - 29s 123ms/step - loss: 1.6142\n",
            "Epoch 15/50\n",
            "238/238 [==============================] - 29s 120ms/step - loss: 1.6141\n",
            "Epoch 16/50\n",
            "238/238 [==============================] - 28s 119ms/step - loss: 1.6140\n",
            "Epoch 17/50\n",
            "238/238 [==============================] - 29s 120ms/step - loss: 1.6139\n",
            "Epoch 18/50\n",
            "238/238 [==============================] - 29s 120ms/step - loss: 1.6138\n",
            "Epoch 19/50\n",
            "238/238 [==============================] - 29s 121ms/step - loss: 1.6137\n",
            "Epoch 20/50\n",
            "238/238 [==============================] - 29s 121ms/step - loss: 1.6136\n",
            "Epoch 21/50\n",
            "238/238 [==============================] - 31s 129ms/step - loss: 1.6135\n",
            "Epoch 22/50\n",
            "238/238 [==============================] - 29s 123ms/step - loss: 1.6134\n",
            "Epoch 23/50\n",
            "238/238 [==============================] - 29s 121ms/step - loss: 1.6133\n",
            "Epoch 24/50\n",
            "238/238 [==============================] - 30s 125ms/step - loss: 1.6132\n",
            "Epoch 25/50\n",
            "238/238 [==============================] - 29s 122ms/step - loss: 1.6131\n",
            "Epoch 26/50\n",
            "238/238 [==============================] - 29s 121ms/step - loss: 1.6130\n",
            "Epoch 27/50\n",
            "238/238 [==============================] - 30s 124ms/step - loss: 1.6129\n",
            "Epoch 28/50\n",
            "238/238 [==============================] - 29s 121ms/step - loss: 1.6129\n",
            "Epoch 29/50\n",
            "238/238 [==============================] - 29s 122ms/step - loss: 1.6128\n",
            "Epoch 30/50\n",
            "238/238 [==============================] - 30s 128ms/step - loss: 1.6127\n",
            "Epoch 31/50\n",
            "238/238 [==============================] - 29s 121ms/step - loss: 1.6126\n",
            "Epoch 32/50\n",
            "238/238 [==============================] - 29s 121ms/step - loss: 1.6125\n",
            "Epoch 33/50\n",
            "238/238 [==============================] - 28s 119ms/step - loss: 1.6124\n",
            "Epoch 34/50\n",
            "238/238 [==============================] - 29s 121ms/step - loss: 1.6123\n",
            "Epoch 35/50\n",
            "238/238 [==============================] - 29s 123ms/step - loss: 1.6122\n",
            "Epoch 36/50\n",
            "238/238 [==============================] - 29s 123ms/step - loss: 1.6122\n",
            "Epoch 37/50\n",
            "238/238 [==============================] - 29s 123ms/step - loss: 1.6121\n",
            "Epoch 38/50\n",
            "238/238 [==============================] - 30s 128ms/step - loss: 1.6120\n",
            "Epoch 39/50\n",
            "238/238 [==============================] - 29s 122ms/step - loss: 1.6119\n",
            "Epoch 40/50\n",
            "238/238 [==============================] - 30s 125ms/step - loss: 1.6118\n",
            "Epoch 41/50\n",
            "238/238 [==============================] - 31s 129ms/step - loss: 1.6117\n",
            "Epoch 42/50\n",
            "238/238 [==============================] - 31s 129ms/step - loss: 1.6117\n",
            "Epoch 43/50\n",
            "238/238 [==============================] - 31s 130ms/step - loss: 1.6116\n",
            "Epoch 44/50\n",
            "238/238 [==============================] - 30s 126ms/step - loss: 1.6115\n",
            "Epoch 45/50\n",
            "238/238 [==============================] - 30s 127ms/step - loss: 1.6114\n",
            "Epoch 46/50\n",
            "238/238 [==============================] - 30s 126ms/step - loss: 1.6113\n",
            "Epoch 47/50\n",
            "238/238 [==============================] - 29s 123ms/step - loss: 1.6112\n",
            "Epoch 48/50\n",
            "238/238 [==============================] - 29s 123ms/step - loss: 1.6112\n",
            "Epoch 49/50\n",
            "238/238 [==============================] - 29s 121ms/step - loss: 1.6111\n",
            "Epoch 50/50\n",
            "238/238 [==============================] - 29s 122ms/step - loss: 1.6110\n"
          ]
        }
      ]
    },
    {
      "cell_type": "code",
      "source": [
        "# Устанавливаем окончательные настройки и запускаем модель\n",
        "\n",
        "encModel , decModel = makeInferenceModels()\n",
        "\n",
        "for _ in range(3):\n",
        "  statesValues = encModel.predict(strToTokens(input( 'Задайте вопрос : ' )))\n",
        "  emptyTargetSeq = np.zeros((1, 1))    \n",
        "  emptyTargetSeq[0, 0] = tokenizer.word_index['start']\n",
        "\n",
        "  stopCondition = False\n",
        "  decodedTranslation = ''\n",
        "  while not stopCondition :\n",
        "    decOutputs , h , c = decModel.predict([emptyTargetSeq] + statesValues)\n",
        "    \n",
        "    sampledWordIndex = np.argmax( decOutputs[0, 0, :])\n",
        "    sampledWord = None\n",
        "    for word , index in tokenizer.word_index.items():\n",
        "      if sampledWordIndex == index:\n",
        "        decodedTranslation += ' {}'.format(word)\n",
        "        sampledWord = word\n",
        "\n",
        "    if sampledWord == 'end' or len(decodedTranslation.split()) > maxLenAnswers:\n",
        "      stopCondition = True\n",
        "\n",
        "    emptyTargetSeq[0, 0] = sampledWordIndex\n",
        "    statesValues = [h, c]\n",
        "  \n",
        "  print(decodedTranslation[:-3])"
      ],
      "metadata": {
        "colab": {
          "base_uri": "https://localhost:8080/"
        },
        "id": "USSmz5grrcdD",
        "outputId": "e3878e3b-398b-4527-c782-e8ac1132148f"
      },
      "execution_count": null,
      "outputs": [
        {
          "output_type": "stream",
          "name": "stdout",
          "text": [
            "Задайте вопрос : как дела\n",
            " да \n",
            "Задайте вопрос : чем занят\n",
            " да сэр \n",
            "Задайте вопрос : будешь пить\n",
            " что \n"
          ]
        }
      ]
    }
  ]
}